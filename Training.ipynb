{
  "cells": [
    {
      "cell_type": "markdown",
      "source": [
        "<h3> Importing model trainer </h3>"
      ],
      "metadata": {
        "id": "WY1rz-LhwcjI"
      },
      "id": "WY1rz-LhwcjI"
    },
    {
      "cell_type": "code",
      "source": [
        "from local_utils.training_utils import trainer"
      ],
      "metadata": {
        "id": "LAARykIizny5"
      },
      "id": "LAARykIizny5",
      "execution_count": 2,
      "outputs": []
    },
    {
      "cell_type": "code",
      "source": [
        "model_trainer = trainer()"
      ],
      "metadata": {
        "id": "4JM3tkJn19pj"
      },
      "id": "4JM3tkJn19pj",
      "execution_count": 3,
      "outputs": []
    },
    {
      "cell_type": "markdown",
      "source": [
        "<h3>Preparing data for training (converting pickled tokens into dataloaders)</h3>"
      ],
      "metadata": {
        "id": "yv2TW-LNwhxc"
      },
      "id": "yv2TW-LNwhxc"
    },
    {
      "cell_type": "code",
      "source": [
        "model_trainer.prepare_data(train_set_tokens_filename = \"./dataset/token_Deberta_train_proto.pkl\",\n",
        "                           valid_set_tokens_filename = \"./dataset/token_Deberta_valid_proto.pkl\",\n",
        "                           batch_size = 128)"
      ],
      "metadata": {
        "id": "4ktN-voz2E8w"
      },
      "id": "4ktN-voz2E8w",
      "execution_count": 4,
      "outputs": []
    },
    {
      "cell_type": "markdown",
      "source": [
        "<h3> setting hyper parameters and intiiating training</h3>\n",
        "<ul>\n",
        "<li>the the losses over different other metrics over iterations will be stored, along with the trained model's weights in \"./training_results/<model_name>\" directory</h1>\n"
      ],
      "metadata": {
        "id": "EvV8LbYWwvXW"
      },
      "id": "EvV8LbYWwvXW"
    },
    {
      "cell_type": "code",
      "source": [
        "my_learning_rate = 3E-6 # default is 5E-5\n",
        "my_adam_epsilon = 1E-8 # default is 1E-8\n",
        "\n",
        "\n",
        "model_trainer.train(model_name = \"deberta\",\n",
        "                    optimizer_name = \"adamw\",\n",
        "                    learning_rate = my_learning_rate,\n",
        "                    epsilon = my_adam_epsilon,\n",
        "                    number_of_epochs = 2,\n",
        "                    warmup = 3,\n",
        "                    use_focal_loss = True)"
      ],
      "metadata": {
        "id": "s7PR3cWK2v9M"
      },
      "id": "s7PR3cWK2v9M",
      "execution_count": null,
      "outputs": []
    }
  ],
  "metadata": {
    "kernelspec": {
      "display_name": "Python 3",
      "name": "python3"
    },
    "language_info": {
      "codemirror_mode": {
        "name": "ipython",
        "version": 3
      },
      "file_extension": ".py",
      "mimetype": "text/x-python",
      "name": "python",
      "nbconvert_exporter": "python",
      "pygments_lexer": "ipython3",
      "version": "3.9.18"
    },
    "colab": {
      "provenance": [],
      "gpuType": "T4"
    },
    "accelerator": "GPU"
  },
  "nbformat": 4,
  "nbformat_minor": 5
}