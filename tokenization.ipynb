{
 "cells": [
  {
   "cell_type": "code",
   "execution_count": 9,
   "id": "32fa4f8d",
   "metadata": {},
   "outputs": [],
   "source": [
    "import torch\n",
    "import pandas as pd\n",
    "import os\n",
    "import pickle\n",
    "\n",
    "from local_utils.data_utils import set_seed, make_path\n",
    "from local_utils.tokenizer_utils import init_tokenizer, batch_encode\n",
    "\n"
   ]
  },
  {
   "cell_type": "code",
   "execution_count": 2,
   "id": "44b96276-f63f-4796-b2ef-bfd6f52d0336",
   "metadata": {},
   "outputs": [
    {
     "name": "stdout",
     "output_type": "stream",
     "text": [
      "cuda\n"
     ]
    }
   ],
   "source": [
    "device = torch.device(\"cuda\" if torch.cuda.is_available() else \"cpu\")\n",
    "print(device)"
   ]
  },
  {
   "cell_type": "markdown",
   "id": "7bd13572",
   "metadata": {},
   "source": [
    "<h3>Importing datasets into dataframes</h3>"
   ]
  },
  {
   "cell_type": "code",
   "execution_count": 3,
   "id": "dbbe1519",
   "metadata": {},
   "outputs": [
    {
     "name": "stdout",
     "output_type": "stream",
     "text": [
      "\n",
      "train dataset:\n",
      "no of records : 1004773, no of classes : 250\n",
      "\n",
      "valid dataset:\n",
      "no of records : 6248, no of classes : 250\n",
      "\n",
      "valid % : 0.006218319958836474\n"
     ]
    }
   ],
   "source": [
    "train_data = pd.read_csv('./Dataset/traindata_protov2.csv')\n",
    "valid_data = pd.read_csv('./Dataset/testdata_protov2.csv')\n",
    "\n",
    "num_classes_train = len(train_data[\"BROWSE_NODE_ID\"].value_counts())\n",
    "num_classes_valid = len(valid_data[\"BROWSE_NODE_ID\"].value_counts())\n",
    "\n",
    "print(f\"\\ntrain dataset:\\nno of records : {len(train_data)}, no of classes : {num_classes_train}\")\n",
    "print(f\"\\nvalid dataset:\\nno of records : {len(valid_data)}, no of classes : {num_classes_valid}\")\n",
    "print(f\"\\nvalid % : {len(valid_data)/len(train_data)}\")\n",
    "\n",
    "train_texts = train_data[\"text\"].values\n",
    "train_labels = train_data[\"BROWSE_NODE_ID\"].values\n",
    "\n",
    "valid_texts = valid_data[\"text\"].values\n",
    "valid_labels = valid_data[\"BROWSE_NODE_ID\"].values\n",
    "\n",
    "num_labels = len(train_data[\"BROWSE_NODE_ID\"].unique())\n"
   ]
  },
  {
   "cell_type": "markdown",
   "id": "043f30d5",
   "metadata": {},
   "source": [
    "<h3> get tokenizer chars and select tokenizer as below </h3>\n",
    "<ul>\n",
    "    <li>\"Electra\" : (ElectraTokenizerFast,'google/electra-base-discriminator')</li>\n",
    "    <li>\"Bert\" : (BertTokenizerFast,'bert-base-uncased')</li>\n",
    "    <li>\"Deberta\" : (DebertaTokenizerFast,'microsoft/deberta-base')</li>\n",
    "    <li>\"DistilBert\" : (DistilBertTokenizerFast,'distilbert-base-uncased')</li>\n",
    "    <li>\"Roberta\" : (RobertaTokenizerFast, 'roberta-base')</li>\n",
    "</ul>    "
   ]
  },
  {
   "cell_type": "markdown",
   "id": "aab450eb",
   "metadata": {},
   "source": [
    "<h3> Selecting and initializing tokenizer </h3>"
   ]
  },
  {
   "cell_type": "code",
   "execution_count": 4,
   "id": "fd669a99",
   "metadata": {},
   "outputs": [
    {
     "name": "stdout",
     "output_type": "stream",
     "text": [
      "DebertaTokenizerFast(name_or_path='microsoft/deberta-base', vocab_size=50265, model_max_length=512, is_fast=True, padding_side='right', truncation_side='right', special_tokens={'bos_token': '[CLS]', 'eos_token': '[SEP]', 'unk_token': '[UNK]', 'sep_token': '[SEP]', 'pad_token': '[PAD]', 'cls_token': '[CLS]', 'mask_token': '[MASK]'}, clean_up_tokenization_spaces=True),  added_tokens_decoder={\n",
      "\t0: AddedToken(\"[PAD]\", rstrip=False, lstrip=False, single_word=False, normalized=False, special=True),\n",
      "\t1: AddedToken(\"[CLS]\", rstrip=False, lstrip=False, single_word=False, normalized=False, special=True),\n",
      "\t2: AddedToken(\"[SEP]\", rstrip=False, lstrip=False, single_word=False, normalized=False, special=True),\n",
      "\t3: AddedToken(\"[UNK]\", rstrip=False, lstrip=False, single_word=False, normalized=False, special=True),\n",
      "\t50264: AddedToken(\"[MASK]\", rstrip=False, lstrip=True, single_word=False, normalized=True, special=True),\n",
      "}\n"
     ]
    }
   ],
   "source": [
    "tokenizer_name = \"Deberta\"\n",
    "\n",
    "tokenizer = init_tokenizer(tokenizer_name)\n",
    "\n",
    "print(tokenizer)"
   ]
  },
  {
   "cell_type": "markdown",
   "id": "1938bdde",
   "metadata": {},
   "source": [
    "<h3> initiating tokenization  </h3>"
   ]
  },
  {
   "cell_type": "code",
   "execution_count": 5,
   "id": "711d7bf5",
   "metadata": {},
   "outputs": [
    {
     "name": "stderr",
     "output_type": "stream",
     "text": [
      "100%|██████████| 201/201 [02:51<00:00,  1.17it/s]\n",
      "100%|██████████| 2/2 [00:01<00:00,  1.72it/s]\n"
     ]
    }
   ],
   "source": [
    "input_ids_train, attention_masks_train = batch_encode(list(train_texts),\n",
    "                                                      tokenizer,\n",
    "                                                      max_seq_len = 64,\n",
    "                                                      batch_size = 5000)\n",
    "input_ids_valid, attention_masks_valid = batch_encode(list(valid_texts),\n",
    "                                                      tokenizer,\n",
    "                                                      max_seq_len = 64,\n",
    "                                                      batch_size = 5000)"
   ]
  },
  {
   "cell_type": "markdown",
   "id": "eccd12c7",
   "metadata": {},
   "source": [
    "<h3>Saving Tokenizer</h3>"
   ]
  },
  {
   "cell_type": "code",
   "execution_count": 7,
   "id": "ae568ad7",
   "metadata": {},
   "outputs": [
    {
     "data": {
      "text/plain": [
       "('./local_utils/tokenizer_files/tokenizer_config.json',\n",
       " './local_utils/tokenizer_files/special_tokens_map.json',\n",
       " './local_utils/tokenizer_files/vocab.json',\n",
       " './local_utils/tokenizer_files/merges.txt',\n",
       " './local_utils/tokenizer_files/added_tokens.json',\n",
       " './local_utils/tokenizer_files/tokenizer.json')"
      ]
     },
     "execution_count": 7,
     "metadata": {},
     "output_type": "execute_result"
    }
   ],
   "source": [
    "tokenizer_files_path = './local_utils/tokenizer_files/'\n",
    "\n",
    "make_path(tokenizer_files_path)\n",
    "tokenizer.save_pretrained(tokenizer_files_path)"
   ]
  },
  {
   "cell_type": "markdown",
   "id": "77c01d03",
   "metadata": {},
   "source": [
    "<h3>saving and exporting tokenized dataset for training in the pickle format for efficient import and export</h3>"
   ]
  },
  {
   "cell_type": "code",
   "execution_count": 11,
   "id": "484d2f97",
   "metadata": {},
   "outputs": [],
   "source": [
    "token_encoding_train = {\n",
    "\"input_ids\" : input_ids_train,\n",
    "\"attention_masks\" : attention_masks_train,\n",
    "\"labels\" : train_labels\n",
    "\n",
    "}\n",
    "\n",
    "token_encoding_valid = {\n",
    "    \"input_ids\" : input_ids_valid,\n",
    "    \"attention_masks\" : attention_masks_valid,\n",
    "    \"labels\" : valid_labels \n",
    "    \n",
    "}\n",
    "\n",
    "SAVE_NAME_TRAIN = f'./Dataset/token_{tokenizer_name}_train_proto.pkl'\n",
    "SAVE_NAME_VALID = f'./Dataset/token_{tokenizer_name}_valid_proto.pkl'\n",
    "\n",
    "with open(SAVE_NAME_TRAIN, 'wb') as f:\n",
    "    pickle.dump(token_encoding_train, f)\n",
    "    \n",
    "with open(SAVE_NAME_VALID, 'wb') as f:\n",
    "    pickle.dump(token_encoding_valid, f)\n",
    "            "
   ]
  }
 ],
 "metadata": {
  "kernelspec": {
   "display_name": "Python 3 (ipykernel)",
   "language": "python",
   "name": "python3"
  },
  "language_info": {
   "codemirror_mode": {
    "name": "ipython",
    "version": 3
   },
   "file_extension": ".py",
   "mimetype": "text/x-python",
   "name": "python",
   "nbconvert_exporter": "python",
   "pygments_lexer": "ipython3",
   "version": "3.9.18"
  }
 },
 "nbformat": 4,
 "nbformat_minor": 5
}
